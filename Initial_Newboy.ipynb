{
  "nbformat": 4,
  "nbformat_minor": 0,
  "metadata": {
    "colab": {
      "provenance": [],
      "collapsed_sections": [
        "zRa2j7Em3FsO",
        "gOPzYkkA23md",
        "LGFlpSKA7Pte",
        "QTnptWOTpi7W",
        "x_JmFnP0XhK4"
      ],
      "include_colab_link": true
    },
    "kernelspec": {
      "name": "python3",
      "display_name": "Python 3"
    },
    "language_info": {
      "name": "python"
    }
  },
  "cells": [
    {
      "cell_type": "markdown",
      "metadata": {
        "id": "view-in-github",
        "colab_type": "text"
      },
      "source": [
        "<a href=\"https://colab.research.google.com/github/MelonChicken/Newsboy/blob/colab/Initial_Newboy.ipynb\" target=\"_parent\"><img src=\"https://colab.research.google.com/assets/colab-badge.svg\" alt=\"Open In Colab\"/></a>"
      ]
    },
    {
      "cell_type": "markdown",
      "source": [
        "#사이트 크롤링"
      ],
      "metadata": {
        "id": "zRa2j7Em3FsO"
      }
    },
    {
      "cell_type": "code",
      "source": [],
      "metadata": {
        "id": "TMMbWirV3Lmi"
      },
      "execution_count": null,
      "outputs": []
    },
    {
      "cell_type": "markdown",
      "source": [
        "#데이터 전처리"
      ],
      "metadata": {
        "id": "lRNpUmuoz1N2"
      }
    },
    {
      "cell_type": "markdown",
      "source": [
        "***KoNLPy를 사용하여 한글로 된 글을 적절하게 말뭉치로 바꾼다***"
      ],
      "metadata": {
        "id": "q6KmPo1g0w4w"
      }
    },
    {
      "cell_type": "code",
      "source": [
        "import os, sys\n",
        "from google.colab import drive\n",
        "drive.mount('/content/drive')\n",
        "nb_path = '/content/notebooks'\n",
        "#os.symlink('/content/drive/My Drive/Colab Notebooks', nb_path)\n",
        "sys.path.insert(0,nb_path)\n",
        "\n",
        "!pip install --target=$nb_path konlpy"
      ],
      "metadata": {
        "id": "77YvpfXo0uwl",
        "colab": {
          "base_uri": "https://localhost:8080/"
        },
        "outputId": "56d8fdd7-230c-44f7-d637-d1edb2a20db2"
      },
      "execution_count": 10,
      "outputs": [
        {
          "output_type": "stream",
          "name": "stdout",
          "text": [
            "Drive already mounted at /content/drive; to attempt to forcibly remount, call drive.mount(\"/content/drive\", force_remount=True).\n",
            "Collecting konlpy\n",
            "  Using cached konlpy-0.6.0-py2.py3-none-any.whl (19.4 MB)\n",
            "Collecting JPype1>=0.7.0 (from konlpy)\n",
            "  Using cached JPype1-1.4.1-cp310-cp310-manylinux_2_12_x86_64.manylinux2010_x86_64.whl (465 kB)\n",
            "Collecting lxml>=4.1.0 (from konlpy)\n",
            "  Using cached lxml-4.9.3-cp310-cp310-manylinux_2_28_x86_64.whl (7.9 MB)\n",
            "Collecting numpy>=1.6 (from konlpy)\n",
            "  Using cached numpy-1.26.2-cp310-cp310-manylinux_2_17_x86_64.manylinux2014_x86_64.whl (18.2 MB)\n",
            "Collecting packaging (from JPype1>=0.7.0->konlpy)\n",
            "  Using cached packaging-23.2-py3-none-any.whl (53 kB)\n",
            "Installing collected packages: packaging, numpy, lxml, JPype1, konlpy\n",
            "\u001b[31mERROR: pip's dependency resolver does not currently take into account all the packages that are installed. This behaviour is the source of the following dependency conflicts.\n",
            "lida 0.0.10 requires fastapi, which is not installed.\n",
            "lida 0.0.10 requires kaleido, which is not installed.\n",
            "lida 0.0.10 requires python-multipart, which is not installed.\n",
            "lida 0.0.10 requires uvicorn, which is not installed.\n",
            "cupy-cuda11x 11.0.0 requires numpy<1.26,>=1.20, but you have numpy 1.26.2 which is incompatible.\u001b[0m\u001b[31m\n",
            "\u001b[0mSuccessfully installed JPype1-1.4.1 konlpy-0.6.0 lxml-4.9.3 numpy-1.26.2 packaging-23.2\n",
            "\u001b[33mWARNING: Target directory /content/notebooks/konlpy already exists. Specify --upgrade to force replacement.\u001b[0m\u001b[33m\n",
            "\u001b[0m\u001b[33mWARNING: Target directory /content/notebooks/konlpy-0.6.0.dist-info already exists. Specify --upgrade to force replacement.\u001b[0m\u001b[33m\n",
            "\u001b[0m\u001b[33mWARNING: Target directory /content/notebooks/numpy already exists. Specify --upgrade to force replacement.\u001b[0m\u001b[33m\n",
            "\u001b[0m\u001b[33mWARNING: Target directory /content/notebooks/numpy-1.26.2.dist-info already exists. Specify --upgrade to force replacement.\u001b[0m\u001b[33m\n",
            "\u001b[0m\u001b[33mWARNING: Target directory /content/notebooks/lxml-4.9.3.dist-info already exists. Specify --upgrade to force replacement.\u001b[0m\u001b[33m\n",
            "\u001b[0m\u001b[33mWARNING: Target directory /content/notebooks/JPype1-1.4.1.dist-info already exists. Specify --upgrade to force replacement.\u001b[0m\u001b[33m\n",
            "\u001b[0m\u001b[33mWARNING: Target directory /content/notebooks/_jpype.cpython-310-x86_64-linux-gnu.so already exists. Specify --upgrade to force replacement.\u001b[0m\u001b[33m\n",
            "\u001b[0m\u001b[33mWARNING: Target directory /content/notebooks/jpype already exists. Specify --upgrade to force replacement.\u001b[0m\u001b[33m\n",
            "\u001b[0m\u001b[33mWARNING: Target directory /content/notebooks/numpy.libs already exists. Specify --upgrade to force replacement.\u001b[0m\u001b[33m\n",
            "\u001b[0m\u001b[33mWARNING: Target directory /content/notebooks/org.jpype.jar already exists. Specify --upgrade to force replacement.\u001b[0m\u001b[33m\n",
            "\u001b[0m\u001b[33mWARNING: Target directory /content/notebooks/packaging already exists. Specify --upgrade to force replacement.\u001b[0m\u001b[33m\n",
            "\u001b[0m\u001b[33mWARNING: Target directory /content/notebooks/packaging-23.2.dist-info already exists. Specify --upgrade to force replacement.\u001b[0m\u001b[33m\n",
            "\u001b[0m\u001b[33mWARNING: Target directory /content/notebooks/lxml already exists. Specify --upgrade to force replacement.\u001b[0m\u001b[33m\n",
            "\u001b[0m\u001b[33mWARNING: Target directory /content/notebooks/bin already exists. Specify --upgrade to force replacement.\u001b[0m\u001b[33m\n",
            "\u001b[0m"
          ]
        }
      ]
    },
    {
      "cell_type": "markdown",
      "source": [
        "한글 깨짐 방지를 위해 나눔폰트 설치\n",
        "\n",
        "관련 링크(https://teddylee777.github.io/colab/colab-korean/)"
      ],
      "metadata": {
        "id": "ZfDhMwegpLtD"
      }
    },
    {
      "cell_type": "code",
      "source": [
        "!sudo apt-get install -y fonts-nanum\n",
        "!sudo fc-cache -fv\n",
        "!rm ~/.cache/matplotlib -rf"
      ],
      "metadata": {
        "colab": {
          "base_uri": "https://localhost:8080/"
        },
        "id": "xHe5EtJ0pHww",
        "outputId": "f0d83941-23ab-4550-f393-293bda4bcef9"
      },
      "execution_count": 26,
      "outputs": [
        {
          "output_type": "stream",
          "name": "stdout",
          "text": [
            "Reading package lists... Done\n",
            "Building dependency tree... Done\n",
            "Reading state information... Done\n",
            "The following NEW packages will be installed:\n",
            "  fonts-nanum\n",
            "0 upgraded, 1 newly installed, 0 to remove and 15 not upgraded.\n",
            "Need to get 10.3 MB of archives.\n",
            "After this operation, 34.1 MB of additional disk space will be used.\n",
            "Get:1 http://archive.ubuntu.com/ubuntu jammy/universe amd64 fonts-nanum all 20200506-1 [10.3 MB]\n",
            "Fetched 10.3 MB in 0s (24.7 MB/s)\n",
            "debconf: unable to initialize frontend: Dialog\n",
            "debconf: (No usable dialog-like program is installed, so the dialog based frontend cannot be used. at /usr/share/perl5/Debconf/FrontEnd/Dialog.pm line 78, <> line 1.)\n",
            "debconf: falling back to frontend: Readline\n",
            "debconf: unable to initialize frontend: Readline\n",
            "debconf: (This frontend requires a controlling tty.)\n",
            "debconf: falling back to frontend: Teletype\n",
            "dpkg-preconfigure: unable to re-open stdin: \n",
            "Selecting previously unselected package fonts-nanum.\n",
            "(Reading database ... 120899 files and directories currently installed.)\n",
            "Preparing to unpack .../fonts-nanum_20200506-1_all.deb ...\n",
            "Unpacking fonts-nanum (20200506-1) ...\n",
            "Setting up fonts-nanum (20200506-1) ...\n",
            "Processing triggers for fontconfig (2.13.1-4.2ubuntu5) ...\n",
            "/usr/share/fonts: caching, new cache contents: 0 fonts, 1 dirs\n",
            "/usr/share/fonts/truetype: caching, new cache contents: 0 fonts, 3 dirs\n",
            "/usr/share/fonts/truetype/humor-sans: caching, new cache contents: 1 fonts, 0 dirs\n",
            "/usr/share/fonts/truetype/liberation: caching, new cache contents: 16 fonts, 0 dirs\n",
            "/usr/share/fonts/truetype/nanum: caching, new cache contents: 12 fonts, 0 dirs\n",
            "/usr/local/share/fonts: caching, new cache contents: 0 fonts, 0 dirs\n",
            "/root/.local/share/fonts: skipping, no such directory\n",
            "/root/.fonts: skipping, no such directory\n",
            "/usr/share/fonts/truetype: skipping, looped directory detected\n",
            "/usr/share/fonts/truetype/humor-sans: skipping, looped directory detected\n",
            "/usr/share/fonts/truetype/liberation: skipping, looped directory detected\n",
            "/usr/share/fonts/truetype/nanum: skipping, looped directory detected\n",
            "/var/cache/fontconfig: cleaning cache directory\n",
            "/root/.cache/fontconfig: not cleaning non-existent cache directory\n",
            "/root/.fontconfig: not cleaning non-existent cache directory\n",
            "fc-cache: succeeded\n"
          ]
        }
      ]
    },
    {
      "cell_type": "code",
      "source": [
        "import konlpy\n",
        "from konlpy.tag import Okt, Hannanum, Kkma\n",
        "\n",
        "text = \"아버지가방에들어가신다.\"\n",
        "#다음 세개의 함수는 KoNLPy 내 분석기이다. 이외에도 Komoran, Mecab등이 있는데, 현재 품질이 가장 좋은 것은 Mecab이다.\n",
        "\n",
        "okt = Okt() #Open Korea Text\n",
        "hannanum = Hannanum() #한나눔 Hannanum\n",
        "kkma = Kkma()  #꼬꼬마 KKma\n",
        "print(\"okt 형태소 추출:\", okt.morphs(text))\n",
        "print(\"Hannanum 형태소 추출:\", hannanum.morphs(text))\n",
        "print(\"Kkma 형태소 추출:\", kkma.morphs(text))\n",
        "\n",
        "print(\"okt 명사 추출:\", okt.nouns(text))\n",
        "print(\"Hannanum 명사 추출:\", hannanum.nouns(text))\n",
        "print(\"Kkma 명사 추출:\", kkma.nouns(text))"
      ],
      "metadata": {
        "id": "zzWIeLv71AKb",
        "colab": {
          "base_uri": "https://localhost:8080/"
        },
        "outputId": "0211d28b-0ae1-4d95-b627-53075f5e0c6f"
      },
      "execution_count": 11,
      "outputs": [
        {
          "output_type": "stream",
          "name": "stdout",
          "text": [
            "okt 형태소 추출: ['아버지', '가방', '에', '들어가신다', '.']\n",
            "Hannanum 형태소 추출: []\n",
            "Kkma 형태소 추출: ['아버지', '가방', '에', '들어가', '시', 'ㄴ다', '.']\n",
            "okt 명사 추출: ['아버지', '가방']\n",
            "Hannanum 명사 추출: []\n",
            "Kkma 명사 추출: ['아버지', '아버지가방', '가방']\n"
          ]
        }
      ]
    },
    {
      "cell_type": "markdown",
      "source": [
        "corpus : 단어들을 저장하기 위해서 만든 리스트로, 문장형태의 샘플을 단어로 변환, 저장한다.\n",
        "\n",
        "word_to_id : key = word, value = id\n",
        "\n",
        "id_to_word : key = id, value = word"
      ],
      "metadata": {
        "id": "HmRLMEBDz8Eu"
      }
    },
    {
      "cell_type": "code",
      "execution_count": 1,
      "metadata": {
        "id": "FI5rZM94whci"
      },
      "outputs": [],
      "source": [
        "import numpy as np\n",
        "\n",
        "def preprocess(text):\n",
        "\n",
        "    text = text.lower() ##영어인 경우 상정\n",
        "    text = text.replace('.', ' .')\n",
        "    words = text.split(' ')\n",
        "    word_to_id = {}\n",
        "    id_to_word = {}\n",
        "\n",
        "    for word in words:\n",
        "        if word not in word_to_id:\n",
        "            new_id = len(word_to_id)\n",
        "            word_to_id[word] = new_id\n",
        "            id_to_word[new_id] = word\n",
        "    corpus = np.array([word_to_id[w] for w in words])\n",
        "\n",
        "    return corpus, word_to_id, id_to_word"
      ]
    },
    {
      "cell_type": "markdown",
      "source": [
        "***단어를 이용해서 동시발생행렬을 짠다***"
      ],
      "metadata": {
        "id": "pXr3woV30bnj"
      }
    },
    {
      "cell_type": "code",
      "source": [
        "def create_co_matrix(corpus, vocab_size, window_size=1): #동시발생행렬을 자동으로 만들기 위한 함수\n",
        "                                                         #vocab_size는 word_to_id의 length를 구하면 된다. 다시말해 단어의 개수를 입력하는 파라미터이다.\n",
        "    corpus_size = len(corpus)\n",
        "    co_matrix = np.zeros((vocab_size, vocab_size), dtype=np.int32) ##co_matrix 초기화\n",
        "\n",
        "    for idx, word_id in enumerate(corpus): #주변단어를 세고 이를 co_matrix에 저장한다. (one-hot vector가 아님을 유념하자)\n",
        "        for i in range(1, window_size + 1):\n",
        "            left_idx = idx - i\n",
        "            right_idx = idx + i\n",
        "\n",
        "            if left_idx>=0:\n",
        "                left_word_id = corpus[left_idx]\n",
        "                co_matrix[word_id, left_word_id] +=1\n",
        "\n",
        "            if right_idx < corpus_size:\n",
        "                right_word_id = corpus[right_idx]\n",
        "                co_matrix[word_id, right_word_id] += 1\n",
        "    return co_matrix"
      ],
      "metadata": {
        "id": "yDJMmRJM0WH_"
      },
      "execution_count": 2,
      "outputs": []
    },
    {
      "cell_type": "markdown",
      "source": [
        "***벡터간 유사도 계산을 이용해서 단어 의미의 유사도를 계산한다.***"
      ],
      "metadata": {
        "id": "_2DpFi8y0ke_"
      }
    },
    {
      "cell_type": "code",
      "source": [
        "def cos_similarity(x, y, eps = 1e-8):\n",
        "    nx = x / (np.sqrt(np.sum(x**2)) + eps) #각 벡터의 norm을 계산한다.\n",
        "    ny = y / (np.sqrt(np.sum(y**2)) + eps)\n",
        "    return(np.dot(nx, ny))"
      ],
      "metadata": {
        "id": "qUcLRoP70aO0"
      },
      "execution_count": 3,
      "outputs": []
    },
    {
      "cell_type": "code",
      "source": [
        "def most_similar(query, word_to_id, id_to_word, word_matrix, top=5):\n",
        "    #검색어를 꺼낸다\n",
        "    if query not in word_to_id:\n",
        "        print('%s(을)를 찾을 수 없습니다.' % query)\n",
        "        return\n",
        "\n",
        "    print('\\n[query] '+query)\n",
        "    query_id = word_to_id[query]\n",
        "    query_vec = word_matrix[query_id]\n",
        "\n",
        "    #코사인 유사도를 계산한다.\n",
        "    vocab_size = len(id_to_word)\n",
        "    similarity = np.zeros(vocab_size)\n",
        "    for i in range(vocab_size):\n",
        "        similarity[i] = cos_similarity(word_matrix[i], query_vec)\n",
        "\n",
        "    #코사인 유사도를 기준으로 내림차순으로 출력한다.\n",
        "\n",
        "    count = 0\n",
        "    for i in (-1*similarity).argsort(): #argsort()는 넘파이 배열의 원소를 오름차순으로 정렬하며, 이때의 반환값은 배열의 \"인덱스\"이다.\n",
        "        if id_to_word[i] == query:\n",
        "            continue\n",
        "        print(' %s: %s' % (id_to_word[i], similarity[i]))\n",
        "\n",
        "        count +=1\n",
        "        if count>=top:\n",
        "            return"
      ],
      "metadata": {
        "id": "rqpLZmVd0jq2"
      },
      "execution_count": 4,
      "outputs": []
    },
    {
      "cell_type": "markdown",
      "source": [
        "***점별 상호량을 통해 단어간 관련성을 구한다.***"
      ],
      "metadata": {
        "id": "2VWS3LgQ1Jx-"
      }
    },
    {
      "cell_type": "code",
      "source": [
        "def ppmi (C, verbose=False, eps=1e-8):\n",
        "    #C는 동시발생 행렬이고, verbose는 진행상황 출력 여부를 결정하는 플래그이다.\n",
        "    M = np.zeros_like(C, dtype=np.float32) #동시발생행렬의 크기와 동일한 크기의 행렬을 만든다.\n",
        "    print(f'M = {M}\\n')\n",
        "\n",
        "    N = np.sum(C)\n",
        "    print(f'N = {N}\\n')\n",
        "\n",
        "    S = np.sum(C, axis=0)\n",
        "    print(f'S = {S}\\n')\n",
        "\n",
        "    total = C.shape[0] * C.shape[1]\n",
        "    print(f'total = {total}')\n",
        "\n",
        "    for i in range(C.shape[0]):\n",
        "        for j in range(C.shape[1]):\n",
        "            pmi = np.log2(C[i, j]*N/(S[j]*S[i])+eps)\n",
        "            M[i, j] = max(0, pmi)\n",
        "\n",
        "            if verbose:\n",
        "                cnt+=1\n",
        "                if cnt%(total//100+1) == 0:\n",
        "                    print('%.1f%% 완료' % (100*cnt/total))\n",
        "\n",
        "    return M"
      ],
      "metadata": {
        "id": "HofTQvWC1Q-C"
      },
      "execution_count": 5,
      "outputs": []
    },
    {
      "cell_type": "markdown",
      "source": [
        "#키워드 통계 분석"
      ],
      "metadata": {
        "id": "gOPzYkkA23md"
      }
    },
    {
      "cell_type": "markdown",
      "source": [
        "게시물을 어떻게 저장할 것인가? -> 관계형 데이터베이스 형태가 무난할 것 으로 생각.\n",
        "\n",
        "\n",
        "****<고유 id, 작성자, 조회수, 좋아요수, 주요 키워드, 접근 url>****"
      ],
      "metadata": {
        "id": "IPjGlJfT2-EW"
      }
    },
    {
      "cell_type": "markdown",
      "source": [
        "#예시 데이터 생성"
      ],
      "metadata": {
        "id": "LGFlpSKA7Pte"
      }
    },
    {
      "cell_type": "code",
      "source": [
        "import random\n",
        "from datetime import date"
      ],
      "metadata": {
        "id": "WVgPXC_nGz58"
      },
      "execution_count": null,
      "outputs": []
    },
    {
      "cell_type": "code",
      "source": [
        "class Post():\n",
        "    id = 'YYMMDD-###'\n",
        "    user = ''\n",
        "    view = 0\n",
        "    likes = 0\n",
        "    contents = 'This is the whole sentence of the single post.'\n",
        "    keywords = []\n",
        "    url = 'https://www.google.com'"
      ],
      "metadata": {
        "id": "zk3Uns3fQMyC"
      },
      "execution_count": null,
      "outputs": []
    },
    {
      "cell_type": "code",
      "source": [
        "def MakeID(PostList, num):\n",
        "    for i in range(num):\n",
        "\n",
        "        now = date.today()\n",
        "\n",
        "        if now.month <= 9:\n",
        "            month = '0' + str(now.month)\n",
        "        else:\n",
        "            month = now.month\n",
        "\n",
        "        if now.day <= 9:\n",
        "            day = '0' + str(now.day)\n",
        "        else:\n",
        "            day = now.day\n",
        "\n",
        "        if i+1<10:\n",
        "            cnt = '00'+str(i+1)\n",
        "        elif i+1<100:\n",
        "            cnt = '0'+str(i+1)\n",
        "        else:\n",
        "            cnt=i+1\n",
        "\n",
        "        tmp_post = Post()\n",
        "        tmp_post.id = f'{str(now.year)[2:]}{month}{day}-{cnt}'\n",
        "        PostList.append(tmp_post)\n",
        "\n",
        "    return PostList"
      ],
      "metadata": {
        "id": "NYZL7PhsE3NM"
      },
      "execution_count": null,
      "outputs": []
    },
    {
      "cell_type": "code",
      "source": [
        "def MakeUserName(PostList):\n",
        "    colors = ['초록빛깔', '파란', '노란', '까만', '황금빛깔', '다홍빛깔', '하얀']\n",
        "    animals = ['악어', '펭귄', '부엉이', '올빼미', '곰', '돼지', '소', '닭', '독수리', '타조', '고릴라', '오랑우탄', '침팬지', '원숭이', '코알라', '캥거루', '고래', '상어', '칠면조', '직박구리', '쥐', '청설모', '메추라기', '앵무새', '삵', '스라소니', '판다', '오소리', '오리', '거위', '백조', '두루미', '고슴도치', '두더지', '우파루파', '맹꽁이', '너구리', '개구리', '두꺼비', '카멜레온', '이구아나', '노루', '제비', '까치', '고라니', '수달', '당나귀', '순록', '염소', '공작', '바다표범', '들소', '박쥐', '참새', '물개', '바다사자', '살모사', '구렁이', '얼룩말', '산양', '멧돼지', '카피바라', '바다코끼리', '도롱뇽', '북극곰', '퓨마', '미어캣', '코요테', '라마', '딱따구리', '기러기', '비둘기', '스컹크', '아르마딜로', '돌고래', '까마귀', '매', '낙타', '여우', '사슴', '늑대', '재규어', '알파카', '양', '다람쥐', '담비']\n",
        "\n",
        "    for i in range(len(PostList)):\n",
        "        PostList[i].user = f'{colors[random.randint(1, len(colors)-1)]} {animals[random.randint(1, len(animals)-1)]}'\n",
        "\n",
        "    return PostList"
      ],
      "metadata": {
        "id": "6eDPZRkL26G1"
      },
      "execution_count": null,
      "outputs": []
    },
    {
      "cell_type": "code",
      "source": [
        "def PutOtherInfo(PostList):\n",
        "    for post in PostList:\n",
        "\n",
        "        post.view = random.randint(1, 10000) #조회수\n",
        "        post.likes = random.randint(1, 100) #좋아요수\n",
        "    return PostList"
      ],
      "metadata": {
        "id": "wTvE_AfoLzPN"
      },
      "execution_count": null,
      "outputs": []
    },
    {
      "cell_type": "code",
      "source": [
        "sample = PutOtherInfo(MakeUserName(MakeID([], 20)))"
      ],
      "metadata": {
        "id": "-FsafBsXgt_h",
        "outputId": "1119698d-7970-4b39-fec2-49f6fe7fec5f",
        "colab": {
          "base_uri": "https://localhost:8080/"
        }
      },
      "execution_count": null,
      "outputs": [
        {
          "output_type": "error",
          "ename": "NameError",
          "evalue": "ignored",
          "traceback": [
            "\u001b[0;31m---------------------------------------------------------------------------\u001b[0m",
            "\u001b[0;31mNameError\u001b[0m                                 Traceback (most recent call last)",
            "\u001b[0;32m<ipython-input-7-abce2f557188>\u001b[0m in \u001b[0;36m<cell line: 1>\u001b[0;34m()\u001b[0m\n\u001b[0;32m----> 1\u001b[0;31m \u001b[0msample\u001b[0m \u001b[0;34m=\u001b[0m \u001b[0mPutOtherInfo\u001b[0m\u001b[0;34m(\u001b[0m\u001b[0mMakeUserName\u001b[0m\u001b[0;34m(\u001b[0m\u001b[0mMakeID\u001b[0m\u001b[0;34m(\u001b[0m\u001b[0;34m[\u001b[0m\u001b[0;34m]\u001b[0m\u001b[0;34m,\u001b[0m \u001b[0;36m20\u001b[0m\u001b[0;34m)\u001b[0m\u001b[0;34m)\u001b[0m\u001b[0;34m)\u001b[0m\u001b[0;34m\u001b[0m\u001b[0;34m\u001b[0m\u001b[0m\n\u001b[0m",
            "\u001b[0;31mNameError\u001b[0m: name 'PutOtherInfo' is not defined"
          ]
        }
      ]
    },
    {
      "cell_type": "code",
      "source": [
        "cnt = 1\n",
        "for post in sample:\n",
        "    print(f'---{cnt}번 샘플 데이터---')\n",
        "    print(f'ID : {post.id}')\n",
        "    print(f'user : {post.user}')\n",
        "    print(f'view : {post.view}')\n",
        "    print(f'likes : {post.likes}')\n",
        "    print(f'keywords : {post.keywords}')\n",
        "    print(f'url : {post.url}')\n",
        "    print('-'*10 + '\\n\\n')\n",
        "\n",
        "    cnt+=1\n"
      ],
      "metadata": {
        "id": "Ysb68vV-SYLL",
        "colab": {
          "base_uri": "https://localhost:8080/"
        },
        "outputId": "1cb6299f-0c16-4f5b-d6bd-79db3f42f2c1"
      },
      "execution_count": null,
      "outputs": [
        {
          "output_type": "stream",
          "name": "stdout",
          "text": [
            "---1번 샘플 데이터---\n",
            "ID : 231207-001\n",
            "user : 하얀 카피바라\n",
            "view : 9740\n",
            "likes : 10\n",
            "keywords : []\n",
            "url : https://www.google.com\n",
            "----------\n",
            "\n",
            "\n",
            "---2번 샘플 데이터---\n",
            "ID : 231207-002\n",
            "user : 황금빛깔 비둘기\n",
            "view : 1581\n",
            "likes : 39\n",
            "keywords : []\n",
            "url : https://www.google.com\n",
            "----------\n",
            "\n",
            "\n",
            "---3번 샘플 데이터---\n",
            "ID : 231207-003\n",
            "user : 다홍빛깔 이구아나\n",
            "view : 4803\n",
            "likes : 38\n",
            "keywords : []\n",
            "url : https://www.google.com\n",
            "----------\n",
            "\n",
            "\n",
            "---4번 샘플 데이터---\n",
            "ID : 231207-004\n",
            "user : 하얀 이구아나\n",
            "view : 3091\n",
            "likes : 15\n",
            "keywords : []\n",
            "url : https://www.google.com\n",
            "----------\n",
            "\n",
            "\n",
            "---5번 샘플 데이터---\n",
            "ID : 231207-005\n",
            "user : 황금빛깔 북극곰\n",
            "view : 4726\n",
            "likes : 16\n",
            "keywords : []\n",
            "url : https://www.google.com\n",
            "----------\n",
            "\n",
            "\n",
            "---6번 샘플 데이터---\n",
            "ID : 231207-006\n",
            "user : 까만 오소리\n",
            "view : 8592\n",
            "likes : 50\n",
            "keywords : []\n",
            "url : https://www.google.com\n",
            "----------\n",
            "\n",
            "\n",
            "---7번 샘플 데이터---\n",
            "ID : 231207-007\n",
            "user : 노란 직박구리\n",
            "view : 1919\n",
            "likes : 87\n",
            "keywords : []\n",
            "url : https://www.google.com\n",
            "----------\n",
            "\n",
            "\n",
            "---8번 샘플 데이터---\n",
            "ID : 231207-008\n",
            "user : 파란 양\n",
            "view : 61\n",
            "likes : 42\n",
            "keywords : []\n",
            "url : https://www.google.com\n",
            "----------\n",
            "\n",
            "\n",
            "---9번 샘플 데이터---\n",
            "ID : 231207-009\n",
            "user : 파란 물개\n",
            "view : 4737\n",
            "likes : 14\n",
            "keywords : []\n",
            "url : https://www.google.com\n",
            "----------\n",
            "\n",
            "\n",
            "---10번 샘플 데이터---\n",
            "ID : 231207-010\n",
            "user : 하얀 아르마딜로\n",
            "view : 4508\n",
            "likes : 5\n",
            "keywords : []\n",
            "url : https://www.google.com\n",
            "----------\n",
            "\n",
            "\n",
            "---11번 샘플 데이터---\n",
            "ID : 231207-011\n",
            "user : 노란 수달\n",
            "view : 9924\n",
            "likes : 83\n",
            "keywords : []\n",
            "url : https://www.google.com\n",
            "----------\n",
            "\n",
            "\n",
            "---12번 샘플 데이터---\n",
            "ID : 231207-012\n",
            "user : 노란 이구아나\n",
            "view : 6222\n",
            "likes : 74\n",
            "keywords : []\n",
            "url : https://www.google.com\n",
            "----------\n",
            "\n",
            "\n",
            "---13번 샘플 데이터---\n",
            "ID : 231207-013\n",
            "user : 노란 코요테\n",
            "view : 6841\n",
            "likes : 71\n",
            "keywords : []\n",
            "url : https://www.google.com\n",
            "----------\n",
            "\n",
            "\n",
            "---14번 샘플 데이터---\n",
            "ID : 231207-014\n",
            "user : 황금빛깔 도롱뇽\n",
            "view : 7432\n",
            "likes : 36\n",
            "keywords : []\n",
            "url : https://www.google.com\n",
            "----------\n",
            "\n",
            "\n",
            "---15번 샘플 데이터---\n",
            "ID : 231207-015\n",
            "user : 노란 알파카\n",
            "view : 1896\n",
            "likes : 3\n",
            "keywords : []\n",
            "url : https://www.google.com\n",
            "----------\n",
            "\n",
            "\n",
            "---16번 샘플 데이터---\n",
            "ID : 231207-016\n",
            "user : 파란 이구아나\n",
            "view : 483\n",
            "likes : 75\n",
            "keywords : []\n",
            "url : https://www.google.com\n",
            "----------\n",
            "\n",
            "\n",
            "---17번 샘플 데이터---\n",
            "ID : 231207-017\n",
            "user : 하얀 바다코끼리\n",
            "view : 1650\n",
            "likes : 97\n",
            "keywords : []\n",
            "url : https://www.google.com\n",
            "----------\n",
            "\n",
            "\n",
            "---18번 샘플 데이터---\n",
            "ID : 231207-018\n",
            "user : 하얀 염소\n",
            "view : 7957\n",
            "likes : 7\n",
            "keywords : []\n",
            "url : https://www.google.com\n",
            "----------\n",
            "\n",
            "\n",
            "---19번 샘플 데이터---\n",
            "ID : 231207-019\n",
            "user : 황금빛깔 기러기\n",
            "view : 4904\n",
            "likes : 31\n",
            "keywords : []\n",
            "url : https://www.google.com\n",
            "----------\n",
            "\n",
            "\n",
            "---20번 샘플 데이터---\n",
            "ID : 231207-020\n",
            "user : 까만 코알라\n",
            "view : 2326\n",
            "likes : 76\n",
            "keywords : []\n",
            "url : https://www.google.com\n",
            "----------\n",
            "\n",
            "\n"
          ]
        }
      ]
    },
    {
      "cell_type": "code",
      "source": [
        "cnt = 1\n",
        "#조회수 순으로 게시물 정렬\n",
        "for post in sorted(sample, key = lambda x: x.view, reverse= True):\n",
        "    print(f'---좋아요순 정렬---')\n",
        "    print(f'ID : {post.id}')\n",
        "    print(f'user : {post.user}')\n",
        "    print(f'view : {post.view}')\n",
        "    print(f'likes : {post.likes}')\n",
        "    print(f'keywords : {post.keywords}')\n",
        "    print('-'*10 + '\\n\\n')\n",
        "\n",
        "    cnt+=1\n"
      ],
      "metadata": {
        "id": "YnOy4aVJgiYg",
        "colab": {
          "base_uri": "https://localhost:8080/"
        },
        "outputId": "094b5557-75e2-4bdb-81c1-dc7f4d59fcee"
      },
      "execution_count": null,
      "outputs": [
        {
          "output_type": "stream",
          "name": "stdout",
          "text": [
            "---좋아요순 정렬---\n",
            "ID : 231207-011\n",
            "user : 노란 수달\n",
            "view : 9924\n",
            "likes : 83\n",
            "keywords : []\n",
            "----------\n",
            "\n",
            "\n",
            "---좋아요순 정렬---\n",
            "ID : 231207-001\n",
            "user : 하얀 카피바라\n",
            "view : 9740\n",
            "likes : 10\n",
            "keywords : []\n",
            "----------\n",
            "\n",
            "\n",
            "---좋아요순 정렬---\n",
            "ID : 231207-006\n",
            "user : 까만 오소리\n",
            "view : 8592\n",
            "likes : 50\n",
            "keywords : []\n",
            "----------\n",
            "\n",
            "\n",
            "---좋아요순 정렬---\n",
            "ID : 231207-018\n",
            "user : 하얀 염소\n",
            "view : 7957\n",
            "likes : 7\n",
            "keywords : []\n",
            "----------\n",
            "\n",
            "\n",
            "---좋아요순 정렬---\n",
            "ID : 231207-014\n",
            "user : 황금빛깔 도롱뇽\n",
            "view : 7432\n",
            "likes : 36\n",
            "keywords : []\n",
            "----------\n",
            "\n",
            "\n",
            "---좋아요순 정렬---\n",
            "ID : 231207-013\n",
            "user : 노란 코요테\n",
            "view : 6841\n",
            "likes : 71\n",
            "keywords : []\n",
            "----------\n",
            "\n",
            "\n",
            "---좋아요순 정렬---\n",
            "ID : 231207-012\n",
            "user : 노란 이구아나\n",
            "view : 6222\n",
            "likes : 74\n",
            "keywords : []\n",
            "----------\n",
            "\n",
            "\n",
            "---좋아요순 정렬---\n",
            "ID : 231207-019\n",
            "user : 황금빛깔 기러기\n",
            "view : 4904\n",
            "likes : 31\n",
            "keywords : []\n",
            "----------\n",
            "\n",
            "\n",
            "---좋아요순 정렬---\n",
            "ID : 231207-003\n",
            "user : 다홍빛깔 이구아나\n",
            "view : 4803\n",
            "likes : 38\n",
            "keywords : []\n",
            "----------\n",
            "\n",
            "\n",
            "---좋아요순 정렬---\n",
            "ID : 231207-009\n",
            "user : 파란 물개\n",
            "view : 4737\n",
            "likes : 14\n",
            "keywords : []\n",
            "----------\n",
            "\n",
            "\n",
            "---좋아요순 정렬---\n",
            "ID : 231207-005\n",
            "user : 황금빛깔 북극곰\n",
            "view : 4726\n",
            "likes : 16\n",
            "keywords : []\n",
            "----------\n",
            "\n",
            "\n",
            "---좋아요순 정렬---\n",
            "ID : 231207-010\n",
            "user : 하얀 아르마딜로\n",
            "view : 4508\n",
            "likes : 5\n",
            "keywords : []\n",
            "----------\n",
            "\n",
            "\n",
            "---좋아요순 정렬---\n",
            "ID : 231207-004\n",
            "user : 하얀 이구아나\n",
            "view : 3091\n",
            "likes : 15\n",
            "keywords : []\n",
            "----------\n",
            "\n",
            "\n",
            "---좋아요순 정렬---\n",
            "ID : 231207-020\n",
            "user : 까만 코알라\n",
            "view : 2326\n",
            "likes : 76\n",
            "keywords : []\n",
            "----------\n",
            "\n",
            "\n",
            "---좋아요순 정렬---\n",
            "ID : 231207-007\n",
            "user : 노란 직박구리\n",
            "view : 1919\n",
            "likes : 87\n",
            "keywords : []\n",
            "----------\n",
            "\n",
            "\n",
            "---좋아요순 정렬---\n",
            "ID : 231207-015\n",
            "user : 노란 알파카\n",
            "view : 1896\n",
            "likes : 3\n",
            "keywords : []\n",
            "----------\n",
            "\n",
            "\n",
            "---좋아요순 정렬---\n",
            "ID : 231207-017\n",
            "user : 하얀 바다코끼리\n",
            "view : 1650\n",
            "likes : 97\n",
            "keywords : []\n",
            "----------\n",
            "\n",
            "\n",
            "---좋아요순 정렬---\n",
            "ID : 231207-002\n",
            "user : 황금빛깔 비둘기\n",
            "view : 1581\n",
            "likes : 39\n",
            "keywords : []\n",
            "----------\n",
            "\n",
            "\n",
            "---좋아요순 정렬---\n",
            "ID : 231207-016\n",
            "user : 파란 이구아나\n",
            "view : 483\n",
            "likes : 75\n",
            "keywords : []\n",
            "----------\n",
            "\n",
            "\n",
            "---좋아요순 정렬---\n",
            "ID : 231207-008\n",
            "user : 파란 양\n",
            "view : 61\n",
            "likes : 42\n",
            "keywords : []\n",
            "----------\n",
            "\n",
            "\n"
          ]
        }
      ]
    },
    {
      "cell_type": "code",
      "source": [
        "cnt = 1\n",
        "#좋아요수 순으로 게시물 정렬\n",
        "for post in sorted(sample, key = lambda x: x.likes, reverse= True):\n",
        "    print(f'---{cnt}번 샘플 데이터---')\n",
        "    print(f'ID : {post.id}')\n",
        "    print(f'user : {post.user}')\n",
        "    print(f'view : {post.view}')\n",
        "    print(f'likes : {post.likes}')\n",
        "    print(f'keywords : {post.keywords}')\n",
        "    print('-'*10 + '\\n\\n')\n",
        "\n",
        "    cnt+=1\n"
      ],
      "metadata": {
        "id": "QZXer0ebg3Hh",
        "colab": {
          "base_uri": "https://localhost:8080/"
        },
        "outputId": "8702accd-d562-4a65-8e05-639421db2f86"
      },
      "execution_count": null,
      "outputs": [
        {
          "output_type": "stream",
          "name": "stdout",
          "text": [
            "---1번 샘플 데이터---\n",
            "ID : 231207-017\n",
            "user : 하얀 바다코끼리\n",
            "view : 1650\n",
            "likes : 97\n",
            "keywords : []\n",
            "----------\n",
            "\n",
            "\n",
            "---2번 샘플 데이터---\n",
            "ID : 231207-007\n",
            "user : 노란 직박구리\n",
            "view : 1919\n",
            "likes : 87\n",
            "keywords : []\n",
            "----------\n",
            "\n",
            "\n",
            "---3번 샘플 데이터---\n",
            "ID : 231207-011\n",
            "user : 노란 수달\n",
            "view : 9924\n",
            "likes : 83\n",
            "keywords : []\n",
            "----------\n",
            "\n",
            "\n",
            "---4번 샘플 데이터---\n",
            "ID : 231207-020\n",
            "user : 까만 코알라\n",
            "view : 2326\n",
            "likes : 76\n",
            "keywords : []\n",
            "----------\n",
            "\n",
            "\n",
            "---5번 샘플 데이터---\n",
            "ID : 231207-016\n",
            "user : 파란 이구아나\n",
            "view : 483\n",
            "likes : 75\n",
            "keywords : []\n",
            "----------\n",
            "\n",
            "\n",
            "---6번 샘플 데이터---\n",
            "ID : 231207-012\n",
            "user : 노란 이구아나\n",
            "view : 6222\n",
            "likes : 74\n",
            "keywords : []\n",
            "----------\n",
            "\n",
            "\n",
            "---7번 샘플 데이터---\n",
            "ID : 231207-013\n",
            "user : 노란 코요테\n",
            "view : 6841\n",
            "likes : 71\n",
            "keywords : []\n",
            "----------\n",
            "\n",
            "\n",
            "---8번 샘플 데이터---\n",
            "ID : 231207-006\n",
            "user : 까만 오소리\n",
            "view : 8592\n",
            "likes : 50\n",
            "keywords : []\n",
            "----------\n",
            "\n",
            "\n",
            "---9번 샘플 데이터---\n",
            "ID : 231207-008\n",
            "user : 파란 양\n",
            "view : 61\n",
            "likes : 42\n",
            "keywords : []\n",
            "----------\n",
            "\n",
            "\n",
            "---10번 샘플 데이터---\n",
            "ID : 231207-002\n",
            "user : 황금빛깔 비둘기\n",
            "view : 1581\n",
            "likes : 39\n",
            "keywords : []\n",
            "----------\n",
            "\n",
            "\n",
            "---11번 샘플 데이터---\n",
            "ID : 231207-003\n",
            "user : 다홍빛깔 이구아나\n",
            "view : 4803\n",
            "likes : 38\n",
            "keywords : []\n",
            "----------\n",
            "\n",
            "\n",
            "---12번 샘플 데이터---\n",
            "ID : 231207-014\n",
            "user : 황금빛깔 도롱뇽\n",
            "view : 7432\n",
            "likes : 36\n",
            "keywords : []\n",
            "----------\n",
            "\n",
            "\n",
            "---13번 샘플 데이터---\n",
            "ID : 231207-019\n",
            "user : 황금빛깔 기러기\n",
            "view : 4904\n",
            "likes : 31\n",
            "keywords : []\n",
            "----------\n",
            "\n",
            "\n",
            "---14번 샘플 데이터---\n",
            "ID : 231207-005\n",
            "user : 황금빛깔 북극곰\n",
            "view : 4726\n",
            "likes : 16\n",
            "keywords : []\n",
            "----------\n",
            "\n",
            "\n",
            "---15번 샘플 데이터---\n",
            "ID : 231207-004\n",
            "user : 하얀 이구아나\n",
            "view : 3091\n",
            "likes : 15\n",
            "keywords : []\n",
            "----------\n",
            "\n",
            "\n",
            "---16번 샘플 데이터---\n",
            "ID : 231207-009\n",
            "user : 파란 물개\n",
            "view : 4737\n",
            "likes : 14\n",
            "keywords : []\n",
            "----------\n",
            "\n",
            "\n",
            "---17번 샘플 데이터---\n",
            "ID : 231207-001\n",
            "user : 하얀 카피바라\n",
            "view : 9740\n",
            "likes : 10\n",
            "keywords : []\n",
            "----------\n",
            "\n",
            "\n",
            "---18번 샘플 데이터---\n",
            "ID : 231207-018\n",
            "user : 하얀 염소\n",
            "view : 7957\n",
            "likes : 7\n",
            "keywords : []\n",
            "----------\n",
            "\n",
            "\n",
            "---19번 샘플 데이터---\n",
            "ID : 231207-010\n",
            "user : 하얀 아르마딜로\n",
            "view : 4508\n",
            "likes : 5\n",
            "keywords : []\n",
            "----------\n",
            "\n",
            "\n",
            "---20번 샘플 데이터---\n",
            "ID : 231207-015\n",
            "user : 노란 알파카\n",
            "view : 1896\n",
            "likes : 3\n",
            "keywords : []\n",
            "----------\n",
            "\n",
            "\n"
          ]
        }
      ]
    },
    {
      "cell_type": "markdown",
      "source": [
        "###Pandas의 방식으로 가공하기"
      ],
      "metadata": {
        "id": "c3yamb1UXbWI"
      }
    },
    {
      "cell_type": "code",
      "source": [
        "import pandas as pd"
      ],
      "metadata": {
        "id": "R-N4vnHkXhtn"
      },
      "execution_count": null,
      "outputs": []
    },
    {
      "cell_type": "markdown",
      "source": [
        "DataFrame.loc[_indexName] = [] : index를 지정해서 행을 추가하는 방법이다. 이때 맨 - 마지막에 None을 추가하면 값이 없는 경우 자동으로 None을 통해 빈 데이터를 채운다.\n",
        "- 이미 있는 Index Name에 지정\n",
        "- 단 순서는 항상 맨 마지막에 추가된다.\n"
      ],
      "metadata": {
        "id": "dK2pyKgbavsI"
      }
    },
    {
      "cell_type": "code",
      "source": [
        "#먼저 각 column Name만 지정된 빈 데이터 프레임을 형성한다.\n",
        "dataFrame_empty = pd.DataFrame(columns = ['ID', 'USER NAME', 'VIEW', 'LIKES', 'CONTENTS', 'KEYWORDS', 'URL']) #열은 columns로 지정, 행은 index로 지정 (dtypes should be LIST)\n",
        "\n",
        "#dataFrame_empty.info #정보 확인\n",
        "print(dataFrame_empty)\n",
        "#저장하고자 하는 데이터를 넣는 작업 (조회수를 기준으로 정렬할 것임.)\n",
        "cnt = 1\n",
        "for post in sorted(sample, key = lambda x: x.view, reverse = True):\n",
        "    dataFrame_empty.loc[cnt] = [post.id, post.user, post.view, post.likes, post.contents, post.keywords, post.url]\n",
        "    cnt+=1\n",
        "\n",
        "    if cnt == len(sample):\n",
        "        dataFrame_result = dataFrame_empty\n",
        "\n",
        "\n",
        "print(dataFrame_result)\n",
        "\n",
        "\n"
      ],
      "metadata": {
        "colab": {
          "base_uri": "https://localhost:8080/"
        },
        "id": "UvPyHtylYAV5",
        "outputId": "7d08437c-fd35-432e-a27f-428f2cc5ddea"
      },
      "execution_count": null,
      "outputs": [
        {
          "output_type": "stream",
          "name": "stdout",
          "text": [
            "Empty DataFrame\n",
            "Columns: [ID, USER NAME, VIEW, LIKES, CONTENTS, KEYWORDS, URL]\n",
            "Index: []\n",
            "            ID  USER NAME  VIEW  LIKES  \\\n",
            "1   231207-011      노란 수달  9924     83   \n",
            "2   231207-001    하얀 카피바라  9740     10   \n",
            "3   231207-006     까만 오소리  8592     50   \n",
            "4   231207-018      하얀 염소  7957      7   \n",
            "5   231207-014   황금빛깔 도롱뇽  7432     36   \n",
            "6   231207-013     노란 코요테  6841     71   \n",
            "7   231207-012    노란 이구아나  6222     74   \n",
            "8   231207-019   황금빛깔 기러기  4904     31   \n",
            "9   231207-003  다홍빛깔 이구아나  4803     38   \n",
            "10  231207-009      파란 물개  4737     14   \n",
            "11  231207-005   황금빛깔 북극곰  4726     16   \n",
            "12  231207-010   하얀 아르마딜로  4508      5   \n",
            "13  231207-004    하얀 이구아나  3091     15   \n",
            "14  231207-020     까만 코알라  2326     76   \n",
            "15  231207-007    노란 직박구리  1919     87   \n",
            "16  231207-015     노란 알파카  1896      3   \n",
            "17  231207-017   하얀 바다코끼리  1650     97   \n",
            "18  231207-002   황금빛깔 비둘기  1581     39   \n",
            "19  231207-016    파란 이구아나   483     75   \n",
            "20  231207-008       파란 양    61     42   \n",
            "\n",
            "                                          CONTENTS KEYWORDS  \\\n",
            "1   This is the whole sentence of the single post.       []   \n",
            "2   This is the whole sentence of the single post.       []   \n",
            "3   This is the whole sentence of the single post.       []   \n",
            "4   This is the whole sentence of the single post.       []   \n",
            "5   This is the whole sentence of the single post.       []   \n",
            "6   This is the whole sentence of the single post.       []   \n",
            "7   This is the whole sentence of the single post.       []   \n",
            "8   This is the whole sentence of the single post.       []   \n",
            "9   This is the whole sentence of the single post.       []   \n",
            "10  This is the whole sentence of the single post.       []   \n",
            "11  This is the whole sentence of the single post.       []   \n",
            "12  This is the whole sentence of the single post.       []   \n",
            "13  This is the whole sentence of the single post.       []   \n",
            "14  This is the whole sentence of the single post.       []   \n",
            "15  This is the whole sentence of the single post.       []   \n",
            "16  This is the whole sentence of the single post.       []   \n",
            "17  This is the whole sentence of the single post.       []   \n",
            "18  This is the whole sentence of the single post.       []   \n",
            "19  This is the whole sentence of the single post.       []   \n",
            "20  This is the whole sentence of the single post.       []   \n",
            "\n",
            "                       URL  \n",
            "1   https://www.google.com  \n",
            "2   https://www.google.com  \n",
            "3   https://www.google.com  \n",
            "4   https://www.google.com  \n",
            "5   https://www.google.com  \n",
            "6   https://www.google.com  \n",
            "7   https://www.google.com  \n",
            "8   https://www.google.com  \n",
            "9   https://www.google.com  \n",
            "10  https://www.google.com  \n",
            "11  https://www.google.com  \n",
            "12  https://www.google.com  \n",
            "13  https://www.google.com  \n",
            "14  https://www.google.com  \n",
            "15  https://www.google.com  \n",
            "16  https://www.google.com  \n",
            "17  https://www.google.com  \n",
            "18  https://www.google.com  \n",
            "19  https://www.google.com  \n",
            "20  https://www.google.com  \n"
          ]
        }
      ]
    },
    {
      "cell_type": "markdown",
      "source": [
        "### Google Colab System 설정"
      ],
      "metadata": {
        "id": "7NV8fk2hXi_3"
      }
    },
    {
      "cell_type": "code",
      "source": [
        "import openpyxl"
      ],
      "metadata": {
        "id": "vX1k7aCfiq59"
      },
      "execution_count": null,
      "outputs": []
    },
    {
      "cell_type": "code",
      "source": [
        "import os, sys\n",
        "from google.colab import drive\n",
        "drive.mount('/content/drive')\n",
        "nb_path = '/content/notebooks'\n",
        "os.symlink('/content/drive/My Drive/Colab Notebooks', nb_path)\n",
        "sys.path.insert(0,nb_path)"
      ],
      "metadata": {
        "id": "_3qgHVq_maqz",
        "colab": {
          "base_uri": "https://localhost:8080/"
        },
        "outputId": "f352ec78-3841-460b-be78-60692879a69d"
      },
      "execution_count": null,
      "outputs": [
        {
          "output_type": "error",
          "ename": "MessageError",
          "evalue": "ignored",
          "traceback": [
            "\u001b[0;31m---------------------------------------------------------------------------\u001b[0m",
            "\u001b[0;31mMessageError\u001b[0m                              Traceback (most recent call last)",
            "\u001b[0;32m<ipython-input-34-01a0301fcd81>\u001b[0m in \u001b[0;36m<cell line: 3>\u001b[0;34m()\u001b[0m\n\u001b[1;32m      1\u001b[0m \u001b[0;32mimport\u001b[0m \u001b[0mos\u001b[0m\u001b[0;34m,\u001b[0m \u001b[0msys\u001b[0m\u001b[0;34m\u001b[0m\u001b[0;34m\u001b[0m\u001b[0m\n\u001b[1;32m      2\u001b[0m \u001b[0;32mfrom\u001b[0m \u001b[0mgoogle\u001b[0m\u001b[0;34m.\u001b[0m\u001b[0mcolab\u001b[0m \u001b[0;32mimport\u001b[0m \u001b[0mdrive\u001b[0m\u001b[0;34m\u001b[0m\u001b[0;34m\u001b[0m\u001b[0m\n\u001b[0;32m----> 3\u001b[0;31m \u001b[0mdrive\u001b[0m\u001b[0;34m.\u001b[0m\u001b[0mmount\u001b[0m\u001b[0;34m(\u001b[0m\u001b[0;34m'/content/drive'\u001b[0m\u001b[0;34m)\u001b[0m\u001b[0;34m\u001b[0m\u001b[0;34m\u001b[0m\u001b[0m\n\u001b[0m\u001b[1;32m      4\u001b[0m \u001b[0mnb_path\u001b[0m \u001b[0;34m=\u001b[0m \u001b[0;34m'/content/notebooks'\u001b[0m\u001b[0;34m\u001b[0m\u001b[0;34m\u001b[0m\u001b[0m\n\u001b[1;32m      5\u001b[0m \u001b[0mos\u001b[0m\u001b[0;34m.\u001b[0m\u001b[0msymlink\u001b[0m\u001b[0;34m(\u001b[0m\u001b[0;34m'/content/drive/My Drive/Colab Notebooks'\u001b[0m\u001b[0;34m,\u001b[0m \u001b[0mnb_path\u001b[0m\u001b[0;34m)\u001b[0m\u001b[0;34m\u001b[0m\u001b[0;34m\u001b[0m\u001b[0m\n",
            "\u001b[0;32m/usr/local/lib/python3.10/dist-packages/google/colab/drive.py\u001b[0m in \u001b[0;36mmount\u001b[0;34m(mountpoint, force_remount, timeout_ms, readonly)\u001b[0m\n\u001b[1;32m    101\u001b[0m \u001b[0;32mdef\u001b[0m \u001b[0mmount\u001b[0m\u001b[0;34m(\u001b[0m\u001b[0mmountpoint\u001b[0m\u001b[0;34m,\u001b[0m \u001b[0mforce_remount\u001b[0m\u001b[0;34m=\u001b[0m\u001b[0;32mFalse\u001b[0m\u001b[0;34m,\u001b[0m \u001b[0mtimeout_ms\u001b[0m\u001b[0;34m=\u001b[0m\u001b[0;36m120000\u001b[0m\u001b[0;34m,\u001b[0m \u001b[0mreadonly\u001b[0m\u001b[0;34m=\u001b[0m\u001b[0;32mFalse\u001b[0m\u001b[0;34m)\u001b[0m\u001b[0;34m:\u001b[0m\u001b[0;34m\u001b[0m\u001b[0;34m\u001b[0m\u001b[0m\n\u001b[1;32m    102\u001b[0m   \u001b[0;34m\"\"\"Mount your Google Drive at the specified mountpoint path.\"\"\"\u001b[0m\u001b[0;34m\u001b[0m\u001b[0;34m\u001b[0m\u001b[0m\n\u001b[0;32m--> 103\u001b[0;31m   return _mount(\n\u001b[0m\u001b[1;32m    104\u001b[0m       \u001b[0mmountpoint\u001b[0m\u001b[0;34m,\u001b[0m\u001b[0;34m\u001b[0m\u001b[0;34m\u001b[0m\u001b[0m\n\u001b[1;32m    105\u001b[0m       \u001b[0mforce_remount\u001b[0m\u001b[0;34m=\u001b[0m\u001b[0mforce_remount\u001b[0m\u001b[0;34m,\u001b[0m\u001b[0;34m\u001b[0m\u001b[0;34m\u001b[0m\u001b[0m\n",
            "\u001b[0;32m/usr/local/lib/python3.10/dist-packages/google/colab/drive.py\u001b[0m in \u001b[0;36m_mount\u001b[0;34m(mountpoint, force_remount, timeout_ms, ephemeral, readonly)\u001b[0m\n\u001b[1;32m    130\u001b[0m   )\n\u001b[1;32m    131\u001b[0m   \u001b[0;32mif\u001b[0m \u001b[0mephemeral\u001b[0m\u001b[0;34m:\u001b[0m\u001b[0;34m\u001b[0m\u001b[0;34m\u001b[0m\u001b[0m\n\u001b[0;32m--> 132\u001b[0;31m     _message.blocking_request(\n\u001b[0m\u001b[1;32m    133\u001b[0m         \u001b[0;34m'request_auth'\u001b[0m\u001b[0;34m,\u001b[0m \u001b[0mrequest\u001b[0m\u001b[0;34m=\u001b[0m\u001b[0;34m{\u001b[0m\u001b[0;34m'authType'\u001b[0m\u001b[0;34m:\u001b[0m \u001b[0;34m'dfs_ephemeral'\u001b[0m\u001b[0;34m}\u001b[0m\u001b[0;34m,\u001b[0m \u001b[0mtimeout_sec\u001b[0m\u001b[0;34m=\u001b[0m\u001b[0;32mNone\u001b[0m\u001b[0;34m\u001b[0m\u001b[0;34m\u001b[0m\u001b[0m\n\u001b[1;32m    134\u001b[0m     )\n",
            "\u001b[0;32m/usr/local/lib/python3.10/dist-packages/google/colab/_message.py\u001b[0m in \u001b[0;36mblocking_request\u001b[0;34m(request_type, request, timeout_sec, parent)\u001b[0m\n\u001b[1;32m    174\u001b[0m       \u001b[0mrequest_type\u001b[0m\u001b[0;34m,\u001b[0m \u001b[0mrequest\u001b[0m\u001b[0;34m,\u001b[0m \u001b[0mparent\u001b[0m\u001b[0;34m=\u001b[0m\u001b[0mparent\u001b[0m\u001b[0;34m,\u001b[0m \u001b[0mexpect_reply\u001b[0m\u001b[0;34m=\u001b[0m\u001b[0;32mTrue\u001b[0m\u001b[0;34m\u001b[0m\u001b[0;34m\u001b[0m\u001b[0m\n\u001b[1;32m    175\u001b[0m   )\n\u001b[0;32m--> 176\u001b[0;31m   \u001b[0;32mreturn\u001b[0m \u001b[0mread_reply_from_input\u001b[0m\u001b[0;34m(\u001b[0m\u001b[0mrequest_id\u001b[0m\u001b[0;34m,\u001b[0m \u001b[0mtimeout_sec\u001b[0m\u001b[0;34m)\u001b[0m\u001b[0;34m\u001b[0m\u001b[0;34m\u001b[0m\u001b[0m\n\u001b[0m",
            "\u001b[0;32m/usr/local/lib/python3.10/dist-packages/google/colab/_message.py\u001b[0m in \u001b[0;36mread_reply_from_input\u001b[0;34m(message_id, timeout_sec)\u001b[0m\n\u001b[1;32m    101\u001b[0m     ):\n\u001b[1;32m    102\u001b[0m       \u001b[0;32mif\u001b[0m \u001b[0;34m'error'\u001b[0m \u001b[0;32min\u001b[0m \u001b[0mreply\u001b[0m\u001b[0;34m:\u001b[0m\u001b[0;34m\u001b[0m\u001b[0;34m\u001b[0m\u001b[0m\n\u001b[0;32m--> 103\u001b[0;31m         \u001b[0;32mraise\u001b[0m \u001b[0mMessageError\u001b[0m\u001b[0;34m(\u001b[0m\u001b[0mreply\u001b[0m\u001b[0;34m[\u001b[0m\u001b[0;34m'error'\u001b[0m\u001b[0;34m]\u001b[0m\u001b[0;34m)\u001b[0m\u001b[0;34m\u001b[0m\u001b[0;34m\u001b[0m\u001b[0m\n\u001b[0m\u001b[1;32m    104\u001b[0m       \u001b[0;32mreturn\u001b[0m \u001b[0mreply\u001b[0m\u001b[0;34m.\u001b[0m\u001b[0mget\u001b[0m\u001b[0;34m(\u001b[0m\u001b[0;34m'data'\u001b[0m\u001b[0;34m,\u001b[0m \u001b[0;32mNone\u001b[0m\u001b[0;34m)\u001b[0m\u001b[0;34m\u001b[0m\u001b[0;34m\u001b[0m\u001b[0m\n\u001b[1;32m    105\u001b[0m \u001b[0;34m\u001b[0m\u001b[0m\n",
            "\u001b[0;31mMessageError\u001b[0m: Error: credential propagation was unsuccessful"
          ]
        }
      ]
    },
    {
      "cell_type": "markdown",
      "source": [
        "###엑셀 접근"
      ],
      "metadata": {
        "id": "QTnptWOTpi7W"
      }
    },
    {
      "cell_type": "code",
      "source": [
        "wb = openpyxl.Workbook() #Workbook 생성\n",
        "\n",
        "wb.active.title = 'Title' #자동으로 만들어지는 첫번째 sheet 제목 생성\n",
        "#wb.create_sheet(\"TITLE\") #새로 만드는 sheet 이름 지정\n",
        "new_fileName = f'{nb_path}/Toy-Project/Newsboy/NewsboyData.xlsx'\n",
        "\n",
        "target_excel = wb['Title']\n",
        "target_excel.cell(2, 1).value = \"Test\" #cell(행Num, 열Alp)\n",
        "\n",
        "wb.save(new_fileName) #지정한 경로에 파일 저장\n"
      ],
      "metadata": {
        "id": "Vn0JTYNBlMEc"
      },
      "execution_count": null,
      "outputs": []
    },
    {
      "cell_type": "markdown",
      "source": [
        "###---"
      ],
      "metadata": {
        "id": "u-cj09bDpmeN"
      }
    },
    {
      "cell_type": "code",
      "source": [
        "wb = openpyxl.Workbook(f'{nb_path}/Toy-Project/Newsboy/NewsboyData.xlsx') #Workbook 생성\n",
        "\n",
        "wb.create_sheet = '{: %y%m%d}'.format(date.today())\n",
        "target_excel = wb['{: %y%m%d}'.format(date.today())]\n",
        "\n",
        "for i in range(20): #Temporary\n",
        "    tmp_post = sample[i]\n",
        "    tmp_post_list = [tmp_post.id, tmp_post.user, tmp_post.view, tmp_post.likes, tmp_post.keywords, tmp_post.url]\n",
        "    for j in range(6):\n",
        "        target_excel.cell(i, j).value = tmp_post_list[j]\n",
        "\n",
        "wb.save(new_fileName) #지정한 경로에 파일 저장"
      ],
      "metadata": {
        "id": "PRZwRoVlppT8"
      },
      "execution_count": null,
      "outputs": []
    },
    {
      "cell_type": "code",
      "source": [],
      "metadata": {
        "id": "JHECp1BxrVGx"
      },
      "execution_count": null,
      "outputs": []
    },
    {
      "cell_type": "markdown",
      "source": [
        "#샘플 테스트"
      ],
      "metadata": {
        "id": "HlK2j8U6FnQS"
      }
    },
    {
      "cell_type": "markdown",
      "source": [
        "##샘플 글의 단어를 통계처리해보자."
      ],
      "metadata": {
        "id": "o5s1QrwwG__y"
      }
    },
    {
      "cell_type": "markdown",
      "source": [
        "####샘플"
      ],
      "metadata": {
        "id": "x_JmFnP0XhK4"
      }
    },
    {
      "cell_type": "markdown",
      "source": [
        "용서는 곧 사랑이다. 고결하고 아름다운 사랑의 형태이다. 사랑이 없는 사람은 쉽게 용서하지 못한다. 용서는 평화와 행복을 그 보답으로 준다. 그대, 용서함으로써 행복 하라! 용감한 자만이 용서할 줄 알고 비겁한 자는 용서하지 않는다. 용서는 남에게는 자주 베풀지만 자신에게는 베풀지 마라. 누군가가 당신에게 피해를 입혔다면 인내심을 가지고 그들을 대하라. 부드러운 말은 상처를 소독한다. 용서는 상처를 치유하고, 망각은 흉터를 지운다. 상처를 낫게 하려고 논쟁을 벌이는 것보다 조용히 상처를 기다리는 편이 더 낫다. 용서가 신성하듯이 극도의 어려움을 참고 견디는 것은 훌륭하다. 용서하는 것은 아름답다.용서하지 않으면 분노를 되새김질하게 되고 과거의 기억과 상처에 매달리게 되면서 자기 자신의 노예가 되는 것이다. 상처에 집착하는 것은 자기 자신을 불행하게 만든다. 용서는 자신을 위해 상처를 떨쳐버리는 것이다. 상처의 진정한 치유는 용서에서 온다. 용서는 자신 안에 갇힌 에너지를 밖으로 내보내 세상에서 선한 일을 하는데 쓸 수 있게 한다. 용서는 삶 속에서 실천할 수 있는 큰 수행이다. 용서할 때는 마음에 문을 열 수 있다. 용서하는 마음은 상처 준 이들을 받아들이는 마음이다. 진정한 용서는 마음의 쇠사슬에 묶여 있던 이들을 위안해주고 안심시켜 주는 일이다. 자신을 멍들게 하고 파괴시킨 미움과 원망의 마음에서 스스로 벗어나는 일이다. 그대를 고통스럽게 만든 사람에게 나쁜 감정을 키워나가면 그대 자신의 마음의 평화만 깨어질 뿐이다. 그대가 그를 용서한다면, 그대 마음은 평온을 되찾을 것이다. 누군가를 용서한다는 것은 알고 보면 자신을 위한 것이다. 타인을 용서치 못하면 스스로 건너야 하는 다리를 부스는 것이나 마찬가지다. 죄를 저지를 자와 피해를 입은 자, 모두에게 용서가 필요한 법이다. 약자는 결코 용서할 수가 없다. 용서는 강자의 속성이다. 증오는 사랑만이 극복할 수 있다. 용서할 수는 있어도 잊을 수는 없다고 하는 말은 용서할 수 없다는 말이다. 잊어버리는 것이 용서해주는 것이다. 결혼은 30%의 사랑과 70%의 용서이다. 남을 꾸짖는 마음으로 자신을 꾸짖고 자신을 용서하는 마음으로 남을 용서하라. 대장부는 남을 용서해야 마땅하지만 남의 용서를 받는 사람이 되어서는 안 된다. 다른 사람을 용서하되, 자신은 용서하지 마라."
      ],
      "metadata": {
        "id": "r3j-4nqoT9bq"
      }
    },
    {
      "cell_type": "markdown",
      "source": [
        "####코드"
      ],
      "metadata": {
        "id": "4qDOD7NXXlTd"
      }
    },
    {
      "cell_type": "markdown",
      "source": [
        "용서는 곧 사랑이다. 고결하고 아름다운 사랑의 형태이다. 사랑이 없는 사람은 쉽게 용서하지 못한다. 용서는 평화와 행복을 그 보답으로 준다. 그대, 용서함으로써 행복 하라! 용감한 자만이 용서할 줄 알고 비겁한 자는 용서하지 않는다. 용서는 남에게는 자주 베풀지만 자신에게는 베풀지 마라. 누군가가 당신에게 피해를 입혔다면 인내심을 가지고 그들을 대하라. 부드러운 말은 상처를 소독한다. 용서는 상처를 치유하고, 망각은 흉터를 지운다. 상처를 낫게 하려고 논쟁을 벌이는 것보다 조용히 상처를 기다리는 편이 더 낫다. 용서가 신성하듯이 극도의 어려움을 참고 견디는 것은 훌륭하다. 용서하는 것은 아름답다.용서하지 않으면 분노를 되새김질하게 되고 과거의 기억과 상처에 매달리게 되면서 자기 자신의 노예가 되는 것이다. 상처에 집착하는 것은 자기 자신을 불행하게 만든다. 용서는 자신을 위해 상처를 떨쳐버리는 것이다. 상처의 진정한 치유는 용서에서 온다. 용서는 자신 안에 갇힌 에너지를 밖으로 내보내 세상에서 선한 일을 하는데 쓸 수 있게 한다. 용서는 삶 속에서 실천할 수 있는 큰 수행이다. 용서할 때는 마음에 문을 열 수 있다. 용서하는 마음은 상처 준 이들을 받아들이는 마음이다. 진정한 용서는 마음의 쇠사슬에 묶여 있던 이들을 위안해주고 안심시켜 주는 일이다. 자신을 멍들게 하고 파괴시킨 미움과 원망의 마음에서 스스로 벗어나는 일이다. 그대를 고통스럽게 만든 사람에게 나쁜 감정을 키워나가면 그대 자신의 마음의 평화만 깨어질 뿐이다. 그대가 그를 용서한다면, 그대 마음은 평온을 되찾을 것이다. 누군가를 용서한다는 것은 알고 보면 자신을 위한 것이다. 타인을 용서치 못하면 스스로 건너야 하는 다리를 부스는 것이나 마찬가지다. 죄를 저지를 자와 피해를 입은 자, 모두에게 용서가 필요한 법이다. 약자는 결코 용서할 수가 없다. 용서는 강자의 속성이다. 증오는 사랑만이 극복할 수 있다. 용서할 수는 있어도 잊을 수는 없다고 하는 말은 용서할 수 없다는 말이다. 잊어버리는 것이 용서해주는 것이다. 결혼은 30%의 사랑과 70%의 용서이다. 남을 꾸짖는 마음으로 자신을 꾸짖고 자신을 용서하는 마음으로 남을 용서하라. 대장부는 남을 용서해야 마땅하지만 남의 용서를 받는 사람이 되어서는 안 된다. 다른 사람을 용서하되, 자신은 용서하지 마라"
      ],
      "metadata": {
        "id": "MKqOPFzukp9A"
      }
    },
    {
      "cell_type": "markdown",
      "source": [
        "House and Senate negotiators released their compromise draft of an annual defense policy bill Thursday, which calls for maintaining 28,500 U.S. troops in South Korea and deepening nuclear deterrence coordination between Seoul and Washington. They unveiled the final draft of the National Defense Authorization Act (NDAA) for the 2024 fiscal year. Congress passes the bill each year to set defense policy and funding priorities and give guidance on a range of key security matters. The NDAA draft includes a call to reinforce the South Korea-U.S. alliance by maintaining the U.S. troop presence in South Korea at its current level and affirming the U.S. extended deterrence commitment to using the full range of its defense capabilities. It also calls for deeper coordination on nuclear deterrence as highlighted in the Washington Declaration that South Korean President Yoon Suk Yeol and U.S. President Joe Biden adopted during their White House summit in April. The declaration entailed the creation of the Nuclear Consultative Group designed to discuss nuclear and strategic planning issues, and other measures to enhance the credibility of America's extended deterrence commitment to South Korea. The mention of the declaration was not included in the initial Senate NDAA bill though it was in the House draft. On the allies' efforts for the conditions-based transition of wartime operational control (OPCON), the bill requests that the secretary of defense in coordination with the secretary of state submit to relevant congressional committees a report on a set of transfer conditions no later than 180 days after the act's enactment. The draft also stipulates that no later than 45 days before the transfer, the defense secretary is to notify Congress of such a transfer. The draft increases the national defense budget by roughly 3 percent to US$886 billion. Providing for our national defense is Congress' most important responsibility under the U.S. Constitution, and the NDAA is key to fulfilling that duty. Our nation faces unprecedented threats from China, Iran, Russia, and North Korea, representatives of the House and Senate Armed Services Committees said in a statement. We urge Congress to pass the NDAA quickly and President Biden to sign it when it reaches his desk, they added. After the House and Senate endorsed their respective NDAA versions in July, their negotiators carried out intense negotiations to craft a bipartisan version, which should then be passed by both chambers\n"
      ],
      "metadata": {
        "id": "p_cDLSlqtwid"
      }
    },
    {
      "cell_type": "code",
      "source": [
        "import konlpy\n",
        "from konlpy.tag import Okt\n",
        "\n",
        "okt = Okt()\n",
        "\n",
        "def preprocessKOR(text):\n",
        "\n",
        "    words = okt.nouns(text)\n",
        "    word_to_id = {}\n",
        "    id_to_word = {}\n",
        "\n",
        "    for word in words:\n",
        "        if word not in word_to_id:\n",
        "            new_id = len(word_to_id)\n",
        "            word_to_id[word] = new_id\n",
        "            id_to_word[new_id] = word\n",
        "    corpus = np.array([word_to_id[w] for w in words])\n",
        "\n",
        "    return corpus, word_to_id, id_to_word"
      ],
      "metadata": {
        "id": "AB43KcNmuwpt"
      },
      "execution_count": 12,
      "outputs": []
    },
    {
      "cell_type": "code",
      "source": [
        "import konlpy\n",
        "from konlpy.tag import Okt, Hannanum, Kkma\n",
        "\n",
        "sample_text01 = \"용서는 곧 사랑이다. 고결하고 아름다운 사랑의 형태이다. 사랑이 없는 사람은 쉽게 용서하지 못한다. 용서는 평화와 행복을 그 보답으로 준다. 그대, 용서함으로써 행복 하라! 용감한 자만이 용서할 줄 알고 비겁한 자는 용서하지 않는다. 용서는 남에게는 자주 베풀지만 자신에게는 베풀지 마라. 누군가가 당신에게 피해를 입혔다면 인내심을 가지고 그들을 대하라. 부드러운 말은 상처를 소독한다. 용서는 상처를 치유하고, 망각은 흉터를 지운다. 상처를 낫게 하려고 논쟁을 벌이는 것보다 조용히 상처를 기다리는 편이 더 낫다. 용서가 신성하듯이 극도의 어려움을 참고 견디는 것은 훌륭하다. 용서하는 것은 아름답다.용서하지 않으면 분노를 되새김질하게 되고 과거의 기억과 상처에 매달리게 되면서 자기 자신의 노예가 되는 것이다. 상처에 집착하는 것은 자기 자신을 불행하게 만든다. 용서는 자신을 위해 상처를 떨쳐버리는 것이다. 상처의 진정한 치유는 용서에서 온다. 용서는 자신 안에 갇힌 에너지를 밖으로 내보내 세상에서 선한 일을 하는데 쓸 수 있게 한다. 용서는 삶 속에서 실천할 수 있는 큰 수행이다. 용서할 때는 마음에 문을 열 수 있다. 용서하는 마음은 상처 준 이들을 받아들이는 마음이다. 진정한 용서는 마음의 쇠사슬에 묶여 있던 이들을 위안해주고 안심시켜 주는 일이다. 자신을 멍들게 하고 파괴시킨 미움과 원망의 마음에서 스스로 벗어나는 일이다. 그대를 고통스럽게 만든 사람에게 나쁜 감정을 키워나가면 그대 자신의 마음의 평화만 깨어질 뿐이다. 그대가 그를 용서한다면, 그대 마음은 평온을 되찾을 것이다. 누군가를 용서한다는 것은 알고 보면 자신을 위한 것이다. 타인을 용서치 못하면 스스로 건너야 하는 다리를 부스는 것이나 마찬가지다. 죄를 저지를 자와 피해를 입은 자, 모두에게 용서가 필요한 법이다. 약자는 결코 용서할 수가 없다. 용서는 강자의 속성이다. 증오는 사랑만이 극복할 수 있다. 용서할 수는 있어도 잊을 수는 없다고 하는 말은 용서할 수 없다는 말이다. 잊어버리는 것이 용서해주는 것이다. 결혼은 30%의 사랑과 70%의 용서이다. 남을 꾸짖는 마음으로 자신을 꾸짖고 자신을 용서하는 마음으로 남을 용서하라. 대장부는 남을 용서해야 마땅하지만 남의 용서를 받는 사람이 되어서는 안 된다. 다른 사람을 용서하되, 자신은 용서하지 마라\"\n",
        "#다음 세개의 함수는 KoNLPy 내 분석기이다. 이외에도 Komoran, Mecab등이 있는데, 현재 품질이 가장 좋은 것은 Mecab이다.\n",
        "\n",
        "okt = Okt() #Open Korea Text\n",
        "\n",
        "print(\"okt 명사 추출:\", okt.nouns(sample_text01))\n",
        "\n",
        "corpus, word_to_id, id_to_word = preprocessKOR(sample_text01)\n",
        "\n",
        "vocab_size = len(word_to_id)\n",
        "C = create_co_matrix(corpus, vocab_size)\n",
        "\n",
        "most_similar('그대', word_to_id, id_to_word, C, top=5)"
      ],
      "metadata": {
        "colab": {
          "base_uri": "https://localhost:8080/"
        },
        "id": "JBhAaFvNt1_H",
        "outputId": "843ab29d-068c-4339-b06c-81d8ad01a505"
      },
      "execution_count": 13,
      "outputs": [
        {
          "output_type": "stream",
          "name": "stdout",
          "text": [
            "okt 명사 추출: ['용서', '곧', '사랑', '사랑', '형태', '사랑', '사람', '용서', '용서', '평화', '행복', '그', '보답', '그대', '용서', '함', '행복', '하라', '자만', '용서', '줄', '알', '용서', '용서', '남', '자주', '자신', '누군가', '당신', '피해', '인내심', '가지', '그', '대하', '말', '상처', '소독', '용서', '상처', '치유', '망각', '흉터', '상처', '낫', '논쟁', '것', '상처', '편이', '더', '낫다', '용서', '극도', '어려움', '참고', '것', '용서', '것', '용서', '분노', '되새김질', '과거', '기억', '상처', '자기', '자신', '노예', '것', '상처', '집착', '것', '자기', '자신', '용서', '자신', '위해', '상처', '것', '상처', '치유', '용서', '용서', '자신', '안', '에너지', '밖', '세상', '일', '수', '용서', '삶', '속', '실천', '수', '수행', '용서', '때', '마음', '문', '열', '수', '용서', '마음', '상처', '준', '이', '마음', '용서', '마음', '쇠사슬', '이', '위안', '안심', '일이', '자신', '멍', '파괴', '미움', '원망', '마음', '스스로', '일이', '그대', '고통', '사람', '감정', '그대', '자신', '마음', '평화', '뿐', '그대', '그', '용서', '그대', '마음', '평온', '것', '누군가', '용서', '것', '알', '자신', '위', '것', '타인', '용서', '치', '스스로', '다리', '부스', '것', '마찬가지', '죄', '자', '피해', '자', '모두', '용서', '법', '약자', '결코', '용서', '수가', '용서', '강', '속성', '증오', '사랑', '극복', '수', '용서', '수', '수', '말', '용서', '수', '말', '것', '용서', '것', '결혼', '의', '사랑', '의', '용서', '남', '마음', '자신', '자신', '용서', '마음', '남', '용서', '대장부', '남', '용서', '남', '용서', '사람', '안', '다른', '사람', '용서', '자신', '용서']\n",
            "\n",
            "[query] 그대\n",
            " 자신: 0.6443833343357767\n",
            " 남: 0.6236095616998674\n",
            " 사람: 0.6172133964170539\n",
            " 때: 0.6123724295979006\n",
            " 평화: 0.5773502646362079\n"
          ]
        }
      ]
    },
    {
      "cell_type": "code",
      "source": [
        "sample_text = \"House and Senate negotiators released their compromise draft of an annual defense policy bill Thursday, which calls for maintaining 28,500 U.S. troops in South Korea and deepening nuclear deterrence coordination between Seoul and Washington. They unveiled the final draft of the National Defense Authorization Act (NDAA) for the 2024 fiscal year. Congress passes the bill each year to set defense policy and funding priorities and give guidance on a range of key security matters. The NDAA draft includes a call to reinforce the South Korea-U.S. alliance by maintaining the U.S. troop presence in South Korea at its current level and affirming the U.S. extended deterrence commitment to using the full range of its defense capabilities. It also calls for deeper coordination on nuclear deterrence as highlighted in the Washington Declaration that South Korean President Yoon Suk Yeol and U.S. President Joe Biden adopted during their White House summit in April. The declaration entailed the creation of the Nuclear Consultative Group designed to discuss nuclear and strategic planning issues, and other measures to enhance the credibility of America's extended deterrence commitment to South Korea. The mention of the declaration was not included in the initial Senate NDAA bill though it was in the House draft. On the allies' efforts for the conditions-based transition of wartime operational control (OPCON), the bill requests that the secretary of defense in coordination with the secretary of state submit to relevant congressional committees a report on a set of transfer conditions no later than 180 days after the act's enactment. The draft also stipulates that no later than 45 days before the transfer, the defense secretary is to notify Congress of such a transfer. The draft increases the national defense budget by roughly 3 percent to US$886 billion. Providing for our national defense is Congress' most important responsibility under the U.S. Constitution, and the NDAA is key to fulfilling that duty. Our nation faces unprecedented threats from China, Iran, Russia, and North Korea, representatives of the House and Senate Armed Services Committees said in a statement. We urge Congress to pass the NDAA quickly and President Biden to sign it when it reaches his desk, they added. After the House and Senate endorsed their respective NDAA versions in July, their negotiators carried out intense negotiations to craft a bipartisan version, which should then be passed by both chambers.\"\n",
        "\n",
        "corpus, word_to_id, id_to_word = preprocess(sample_text)\n",
        "\n",
        "corpus, word_to_id, id_to_word = preprocess(sample_text)\n",
        "vocab_size = len(word_to_id)\n",
        "C = create_co_matrix(corpus, vocab_size)\n",
        "\n",
        "most_similar('their', word_to_id, id_to_word, C, top=5)"
      ],
      "metadata": {
        "id": "YzmnboRiuKWd",
        "colab": {
          "base_uri": "https://localhost:8080/"
        },
        "outputId": "9d855c9b-8789-4601-bba0-0a37750116f2"
      },
      "execution_count": 13,
      "outputs": [
        {
          "output_type": "stream",
          "name": "stdout",
          "text": [
            "\n",
            "[query] their\n",
            " released: 0.24999999734834955\n",
            " carried: 0.24999999734834955\n",
            " adopted: 0.24999999734834955\n",
            " senate: 0.18898223533138422\n",
            " negotiators: 0.1767766937877534\n"
          ]
        }
      ]
    },
    {
      "cell_type": "code",
      "source": [
        "statistics_wordID = {}\n",
        "\n",
        "cnt = 0\n",
        "for id in sorted(corpus):\n",
        "\n",
        "    if cnt == 0:\n",
        "        tmp_word = id_to_word[id]\n",
        "\n",
        "    elif tmp_word == id_to_word[id]:\n",
        "\n",
        "        if not tmp_word in statistics_wordID.keys():\n",
        "            statistics_wordID[tmp_word] = 2\n",
        "\n",
        "        else:\n",
        "            statistics_wordID[tmp_word] +=1\n",
        "\n",
        "    else:\n",
        "        tmp_word = id_to_word[id]\n",
        "\n",
        "    cnt+=1\n",
        "\n",
        "sorted_list = sorted(statistics_wordID, key = lambda x: statistics_wordID[x], reverse = True)\n",
        "\n",
        "for item in sorted_list:\n",
        "    print(item, \" : \", statistics_wordID[item])"
      ],
      "metadata": {
        "id": "2eL4u1fsGBcf",
        "colab": {
          "base_uri": "https://localhost:8080/"
        },
        "outputId": "b396d0b7-a530-4d17-8aa9-2cb2bf611510"
      },
      "execution_count": 14,
      "outputs": [
        {
          "output_type": "stream",
          "name": "stdout",
          "text": [
            "용서  :  34\n",
            "것  :  12\n",
            "자신  :  11\n",
            "상처  :  9\n",
            "마음  :  9\n",
            "수  :  7\n",
            "사랑  :  5\n",
            "그대  :  5\n",
            "남  :  5\n",
            "사람  :  4\n",
            "그  :  3\n",
            "말  :  3\n",
            "평화  :  2\n",
            "행복  :  2\n",
            "알  :  2\n",
            "누군가  :  2\n",
            "피해  :  2\n",
            "치유  :  2\n",
            "자기  :  2\n",
            "안  :  2\n",
            "이  :  2\n",
            "일이  :  2\n",
            "스스로  :  2\n",
            "자  :  2\n",
            "의  :  2\n"
          ]
        }
      ]
    },
    {
      "cell_type": "code",
      "source": [
        "import matplotlib.pyplot as plt"
      ],
      "metadata": {
        "id": "LSw0smUJ_bqz"
      },
      "execution_count": 15,
      "outputs": []
    },
    {
      "cell_type": "code",
      "source": [
        "x=np.array(sorted_list)\n",
        "y=np.array([statistics_wordID[item] for item in sorted_list])\n",
        "\n",
        "plt.figure(figsize=(20,8)) #단위는 inch\n",
        "plt.rc('font', family='NanumBarunGothic')\n",
        "\n",
        "plt.bar(x,y,label=\"Statistics for frequency of keywords\")\n",
        "plt.xlabel(\"X, keywords\")\n",
        "plt.xticks(rotation=90)\n",
        "plt.ylabel(\"Frequency\")\n",
        "\n",
        "plt.title('Sample Title')\n",
        "plt.legend()\n",
        "plt.show()"
      ],
      "metadata": {
        "colab": {
          "base_uri": "https://localhost:8080/",
          "height": 573
        },
        "id": "5t4rfB1oTgzr",
        "outputId": "1b527ec1-d455-4219-a08e-bc44e9c46882"
      },
      "execution_count": 17,
      "outputs": [
        {
          "output_type": "display_data",
          "data": {
            "text/plain": [
              "<Figure size 2000x800 with 1 Axes>"
            ],
            "image/png": "[encoded data removed]"
          },
          "metadata": {}
        }
      ]
    },
    {
      "cell_type": "code",
      "source": [],
      "metadata": {
        "id": "SaPLVYeOT-7m"
      },
      "execution_count": null,
      "outputs": []
    }
  ]
}